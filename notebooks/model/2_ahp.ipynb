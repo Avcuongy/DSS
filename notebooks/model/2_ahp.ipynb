{
 "cells": [
  {
   "cell_type": "markdown",
   "id": "f8a99ac8",
   "metadata": {},
   "source": [
    "# Library"
   ]
  },
  {
   "cell_type": "code",
   "execution_count": null,
   "id": "5ae14199",
   "metadata": {},
   "outputs": [],
   "source": [
    "import numpy as np\n",
    "import pandas as pd\n",
    "import matplotlib.pyplot as plt\n",
    "import seaborn as sns\n",
    "import warnings\n",
    "warnings.filterwarnings(\"ignore\")\n"
   ]
  },
  {
   "cell_type": "markdown",
   "id": "82c1e68c",
   "metadata": {},
   "source": [
    "# Data"
   ]
  },
  {
   "cell_type": "code",
   "execution_count": null,
   "id": "b4c81bfb",
   "metadata": {},
   "outputs": [],
   "source": [
    "df = pd.read_csv(\n",
    "    r'',\n",
    "    encoding='utf-8',\n",
    ")"
   ]
  },
  {
   "cell_type": "code",
   "execution_count": 4,
   "id": "6deb3e8e",
   "metadata": {},
   "outputs": [
    {
     "data": {
      "text/html": [
       "<div>\n",
       "<style scoped>\n",
       "    .dataframe tbody tr th:only-of-type {\n",
       "        vertical-align: middle;\n",
       "    }\n",
       "\n",
       "    .dataframe tbody tr th {\n",
       "        vertical-align: top;\n",
       "    }\n",
       "\n",
       "    .dataframe thead th {\n",
       "        text-align: right;\n",
       "    }\n",
       "</style>\n",
       "<table border=\"1\" class=\"dataframe\">\n",
       "  <thead>\n",
       "    <tr style=\"text-align: right;\">\n",
       "      <th></th>\n",
       "      <th>location.lat</th>\n",
       "      <th>location.lon</th>\n",
       "      <th>day.avgtemp_c</th>\n",
       "      <th>day.maxwind_kph</th>\n",
       "      <th>day.avgvis_km</th>\n",
       "      <th>day.avghumidity</th>\n",
       "      <th>day.daily_chance_of_rain</th>\n",
       "      <th>astro.moon_illumination</th>\n",
       "      <th>sunrise_hour</th>\n",
       "      <th>sunset_hour</th>\n",
       "      <th>...</th>\n",
       "      <th>has_moonset</th>\n",
       "      <th>moon_event_type</th>\n",
       "      <th>dayofweek</th>\n",
       "      <th>dayofmonth</th>\n",
       "      <th>month</th>\n",
       "      <th>weekofyear</th>\n",
       "      <th>quarter</th>\n",
       "      <th>is_weekend</th>\n",
       "      <th>season</th>\n",
       "      <th>day.totalprecip_mm</th>\n",
       "    </tr>\n",
       "  </thead>\n",
       "  <tbody>\n",
       "    <tr>\n",
       "      <th>0</th>\n",
       "      <td>10.7000</td>\n",
       "      <td>105.1167</td>\n",
       "      <td>31.7</td>\n",
       "      <td>18.9</td>\n",
       "      <td>10.0</td>\n",
       "      <td>50</td>\n",
       "      <td>0</td>\n",
       "      <td>90</td>\n",
       "      <td>5.766667</td>\n",
       "      <td>18.183333</td>\n",
       "      <td>...</td>\n",
       "      <td>1</td>\n",
       "      <td>both</td>\n",
       "      <td>6</td>\n",
       "      <td>21</td>\n",
       "      <td>4</td>\n",
       "      <td>16</td>\n",
       "      <td>2</td>\n",
       "      <td>True</td>\n",
       "      <td>spring</td>\n",
       "      <td>0.0</td>\n",
       "    </tr>\n",
       "    <tr>\n",
       "      <th>1</th>\n",
       "      <td>21.2667</td>\n",
       "      <td>106.2000</td>\n",
       "      <td>28.0</td>\n",
       "      <td>23.0</td>\n",
       "      <td>9.4</td>\n",
       "      <td>77</td>\n",
       "      <td>100</td>\n",
       "      <td>90</td>\n",
       "      <td>5.533333</td>\n",
       "      <td>18.266667</td>\n",
       "      <td>...</td>\n",
       "      <td>1</td>\n",
       "      <td>both</td>\n",
       "      <td>6</td>\n",
       "      <td>21</td>\n",
       "      <td>4</td>\n",
       "      <td>16</td>\n",
       "      <td>2</td>\n",
       "      <td>True</td>\n",
       "      <td>spring</td>\n",
       "      <td>3.8</td>\n",
       "    </tr>\n",
       "    <tr>\n",
       "      <th>2</th>\n",
       "      <td>22.1333</td>\n",
       "      <td>105.8333</td>\n",
       "      <td>25.1</td>\n",
       "      <td>9.1</td>\n",
       "      <td>8.3</td>\n",
       "      <td>89</td>\n",
       "      <td>100</td>\n",
       "      <td>90</td>\n",
       "      <td>5.533333</td>\n",
       "      <td>18.316667</td>\n",
       "      <td>...</td>\n",
       "      <td>1</td>\n",
       "      <td>both</td>\n",
       "      <td>6</td>\n",
       "      <td>21</td>\n",
       "      <td>4</td>\n",
       "      <td>16</td>\n",
       "      <td>2</td>\n",
       "      <td>True</td>\n",
       "      <td>spring</td>\n",
       "      <td>16.1</td>\n",
       "    </tr>\n",
       "    <tr>\n",
       "      <th>3</th>\n",
       "      <td>9.2850</td>\n",
       "      <td>105.7244</td>\n",
       "      <td>30.7</td>\n",
       "      <td>18.7</td>\n",
       "      <td>10.0</td>\n",
       "      <td>58</td>\n",
       "      <td>0</td>\n",
       "      <td>90</td>\n",
       "      <td>5.750000</td>\n",
       "      <td>18.116667</td>\n",
       "      <td>...</td>\n",
       "      <td>1</td>\n",
       "      <td>both</td>\n",
       "      <td>6</td>\n",
       "      <td>21</td>\n",
       "      <td>4</td>\n",
       "      <td>16</td>\n",
       "      <td>2</td>\n",
       "      <td>True</td>\n",
       "      <td>spring</td>\n",
       "      <td>0.0</td>\n",
       "    </tr>\n",
       "    <tr>\n",
       "      <th>4</th>\n",
       "      <td>21.1833</td>\n",
       "      <td>106.0500</td>\n",
       "      <td>28.0</td>\n",
       "      <td>23.0</td>\n",
       "      <td>9.4</td>\n",
       "      <td>77</td>\n",
       "      <td>100</td>\n",
       "      <td>90</td>\n",
       "      <td>5.533333</td>\n",
       "      <td>18.283333</td>\n",
       "      <td>...</td>\n",
       "      <td>1</td>\n",
       "      <td>both</td>\n",
       "      <td>6</td>\n",
       "      <td>21</td>\n",
       "      <td>4</td>\n",
       "      <td>16</td>\n",
       "      <td>2</td>\n",
       "      <td>True</td>\n",
       "      <td>spring</td>\n",
       "      <td>3.8</td>\n",
       "    </tr>\n",
       "  </tbody>\n",
       "</table>\n",
       "<p>5 rows × 29 columns</p>\n",
       "</div>"
      ],
      "text/plain": [
       "   location.lat  location.lon  day.avgtemp_c  day.maxwind_kph  day.avgvis_km  \\\n",
       "0       10.7000      105.1167           31.7             18.9           10.0   \n",
       "1       21.2667      106.2000           28.0             23.0            9.4   \n",
       "2       22.1333      105.8333           25.1              9.1            8.3   \n",
       "3        9.2850      105.7244           30.7             18.7           10.0   \n",
       "4       21.1833      106.0500           28.0             23.0            9.4   \n",
       "\n",
       "   day.avghumidity  day.daily_chance_of_rain  astro.moon_illumination  \\\n",
       "0               50                         0                       90   \n",
       "1               77                       100                       90   \n",
       "2               89                       100                       90   \n",
       "3               58                         0                       90   \n",
       "4               77                       100                       90   \n",
       "\n",
       "   sunrise_hour  sunset_hour  ...  has_moonset moon_event_type dayofweek  \\\n",
       "0      5.766667    18.183333  ...            1            both         6   \n",
       "1      5.533333    18.266667  ...            1            both         6   \n",
       "2      5.533333    18.316667  ...            1            both         6   \n",
       "3      5.750000    18.116667  ...            1            both         6   \n",
       "4      5.533333    18.283333  ...            1            both         6   \n",
       "\n",
       "  dayofmonth  month  weekofyear  quarter is_weekend  season  \\\n",
       "0         21      4          16        2       True  spring   \n",
       "1         21      4          16        2       True  spring   \n",
       "2         21      4          16        2       True  spring   \n",
       "3         21      4          16        2       True  spring   \n",
       "4         21      4          16        2       True  spring   \n",
       "\n",
       "   day.totalprecip_mm  \n",
       "0                 0.0  \n",
       "1                 3.8  \n",
       "2                16.1  \n",
       "3                 0.0  \n",
       "4                 3.8  \n",
       "\n",
       "[5 rows x 29 columns]"
      ]
     },
     "execution_count": 4,
     "metadata": {},
     "output_type": "execute_result"
    }
   ],
   "source": [
    "df.head()"
   ]
  },
  {
   "cell_type": "markdown",
   "id": "0cbfdc12",
   "metadata": {},
   "source": [
    "# Load metadata"
   ]
  },
  {
   "cell_type": "code",
   "execution_count": null,
   "id": "38d7566b",
   "metadata": {},
   "outputs": [],
   "source": [
    "df = load_metadata(\n",
    "    df,\n",
    "    r\"\",\n",
    ")"
   ]
  },
  {
   "cell_type": "markdown",
   "id": "7ab29f7b",
   "metadata": {},
   "source": [
    "# Overview"
   ]
  },
  {
   "cell_type": "markdown",
   "id": "0c74db1f",
   "metadata": {},
   "source": [
    "## Check"
   ]
  },
  {
   "cell_type": "code",
   "execution_count": 6,
   "id": "a73fd9aa",
   "metadata": {},
   "outputs": [
    {
     "name": "stdout",
     "output_type": "stream",
     "text": [
      "Num of varibles: 29\n",
      "Num of rows: 26018\n"
     ]
    }
   ],
   "source": [
    "print(f\"Num of varibles:\", df.shape[1])\n",
    "print(f\"Num of rows:\", df.shape[0])"
   ]
  },
  {
   "cell_type": "code",
   "execution_count": 7,
   "id": "ad6381f9",
   "metadata": {},
   "outputs": [
    {
     "name": "stdout",
     "output_type": "stream",
     "text": [
      "<class 'pandas.core.frame.DataFrame'>\n",
      "RangeIndex: 26018 entries, 0 to 26017\n",
      "Data columns (total 29 columns):\n",
      " #   Column                    Non-Null Count  Dtype   \n",
      "---  ------                    --------------  -----   \n",
      " 0   location.lat              26018 non-null  float64 \n",
      " 1   location.lon              26018 non-null  float64 \n",
      " 2   day.avgtemp_c             26018 non-null  float64 \n",
      " 3   day.maxwind_kph           26018 non-null  float64 \n",
      " 4   day.avgvis_km             26018 non-null  float64 \n",
      " 5   day.avghumidity           26018 non-null  int64   \n",
      " 6   day.daily_chance_of_rain  26018 non-null  int64   \n",
      " 7   astro.moon_illumination   26018 non-null  int64   \n",
      " 8   sunrise_hour              26018 non-null  float64 \n",
      " 9   sunset_hour               26018 non-null  float64 \n",
      " 10  daylight_hours            26018 non-null  float64 \n",
      " 11  location.name             26018 non-null  category\n",
      " 12  location.region           26018 non-null  category\n",
      " 13  location.terrain          26018 non-null  category\n",
      " 14  day.daily_will_it_rain    26018 non-null  category\n",
      " 15  day.condition.code        26018 non-null  category\n",
      " 16  day.uv                    26018 non-null  category\n",
      " 17  astro.moon_phase          26018 non-null  category\n",
      " 18  has_moonrise              26018 non-null  category\n",
      " 19  has_moonset               26018 non-null  category\n",
      " 20  moon_event_type           26018 non-null  category\n",
      " 21  dayofweek                 26018 non-null  category\n",
      " 22  dayofmonth                26018 non-null  category\n",
      " 23  month                     26018 non-null  category\n",
      " 24  weekofyear                26018 non-null  category\n",
      " 25  quarter                   26018 non-null  category\n",
      " 26  is_weekend                26018 non-null  category\n",
      " 27  season                    26018 non-null  category\n",
      " 28  day.totalprecip_mm        26018 non-null  float64 \n",
      "dtypes: category(17), float64(9), int64(3)\n",
      "memory usage: 2.8 MB\n"
     ]
    }
   ],
   "source": [
    "df.info()"
   ]
  },
  {
   "cell_type": "code",
   "execution_count": 8,
   "id": "64fdffcd",
   "metadata": {},
   "outputs": [
    {
     "data": {
      "text/plain": [
       "location.lat                0\n",
       "location.lon                0\n",
       "day.avgtemp_c               0\n",
       "day.maxwind_kph             0\n",
       "day.avgvis_km               0\n",
       "day.avghumidity             0\n",
       "day.daily_chance_of_rain    0\n",
       "astro.moon_illumination     0\n",
       "sunrise_hour                0\n",
       "sunset_hour                 0\n",
       "daylight_hours              0\n",
       "location.name               0\n",
       "location.region             0\n",
       "location.terrain            0\n",
       "day.daily_will_it_rain      0\n",
       "day.condition.code          0\n",
       "day.uv                      0\n",
       "astro.moon_phase            0\n",
       "has_moonrise                0\n",
       "has_moonset                 0\n",
       "moon_event_type             0\n",
       "dayofweek                   0\n",
       "dayofmonth                  0\n",
       "month                       0\n",
       "weekofyear                  0\n",
       "quarter                     0\n",
       "is_weekend                  0\n",
       "season                      0\n",
       "day.totalprecip_mm          0\n",
       "dtype: int64"
      ]
     },
     "execution_count": 8,
     "metadata": {},
     "output_type": "execute_result"
    }
   ],
   "source": [
    "df.isnull().sum()"
   ]
  },
  {
   "cell_type": "markdown",
   "id": "77bf5659",
   "metadata": {},
   "source": [
    "## Varibles and target"
   ]
  },
  {
   "cell_type": "code",
   "execution_count": null,
   "id": "a788cb81",
   "metadata": {},
   "outputs": [
    {
     "name": "stdout",
     "output_type": "stream",
     "text": [
      "['day.totalprecip_mm']\n",
      "['location.lat', 'location.lon', 'day.avgtemp_c', 'day.maxwind_kph', 'day.avgvis_km', 'day.avghumidity', 'day.daily_chance_of_rain', 'astro.moon_illumination', 'sunrise_hour', 'sunset_hour', 'daylight_hours', 'location.name', 'location.region', 'location.terrain', 'day.daily_will_it_rain', 'day.condition.code', 'day.uv', 'astro.moon_phase', 'has_moonrise', 'has_moonset', 'moon_event_type', 'dayofweek', 'dayofmonth', 'month', 'weekofyear', 'quarter', 'is_weekend', 'season']\n"
     ]
    }
   ],
   "source": []
  },
  {
   "cell_type": "markdown",
   "id": "feb0eeba",
   "metadata": {},
   "source": [
    "# Grouping Varibles by their respective data types (except target)"
   ]
  },
  {
   "cell_type": "code",
   "execution_count": null,
   "id": "92420c62",
   "metadata": {},
   "outputs": [
    {
     "name": "stdout",
     "output_type": "stream",
     "text": [
      "Total numeric columns: 11\n",
      "Numeric columns: ['location.lat', 'location.lon', 'day.avgtemp_c', 'day.maxwind_kph', 'day.avgvis_km', 'day.avghumidity', 'day.daily_chance_of_rain', 'astro.moon_illumination', 'sunrise_hour', 'sunset_hour', 'daylight_hours']\n",
      "\n",
      "Total object columns: 17\n",
      "Object columns: ['location.name', 'location.region', 'location.terrain', 'day.daily_will_it_rain', 'day.condition.code', 'day.uv', 'astro.moon_phase', 'has_moonrise', 'has_moonset', 'moon_event_type', 'dayofweek', 'dayofmonth', 'month', 'weekofyear', 'quarter', 'is_weekend', 'season']\n",
      "\n"
     ]
    }
   ],
   "source": [
    "numerical_cols, categorical_cols, _ = group_columns_by_type(df, display_info=True)"
   ]
  }
 ],
 "metadata": {
  "kernelspec": {
   "display_name": ".venv",
   "language": "python",
   "name": "python3"
  },
  "language_info": {
   "codemirror_mode": {
    "name": "ipython",
    "version": 3
   },
   "file_extension": ".py",
   "mimetype": "text/x-python",
   "name": "python",
   "nbconvert_exporter": "python",
   "pygments_lexer": "ipython3",
   "version": "3.13.3"
  }
 },
 "nbformat": 4,
 "nbformat_minor": 5
}
