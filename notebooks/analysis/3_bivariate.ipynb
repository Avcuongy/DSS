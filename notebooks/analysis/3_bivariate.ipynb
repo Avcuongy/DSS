{
 "cells": [
  {
   "cell_type": "markdown",
   "id": "f8a99ac8",
   "metadata": {},
   "source": [
    "# Library"
   ]
  },
  {
   "cell_type": "code",
   "execution_count": 1,
   "id": "5ae14199",
   "metadata": {},
   "outputs": [],
   "source": [
    "import pandas as pd\n",
    "import numpy as np\n",
    "import matplotlib.pyplot as plt\n",
    "import seaborn as sns\n",
    "import warnings\n",
    "warnings.filterwarnings(\"ignore\")\n",
    "\n",
    "from analysis import *\n",
    "from utils import *"
   ]
  },
  {
   "cell_type": "markdown",
   "id": "82c1e68c",
   "metadata": {},
   "source": [
    "# Data"
   ]
  },
  {
   "cell_type": "code",
   "execution_count": 3,
   "id": "b4c81bfb",
   "metadata": {},
   "outputs": [],
   "source": [
    "df = pd.read_csv(\n",
    "    r'../../data/cleaned/clean2.csv',\n",
    "    encoding='utf-8',\n",
    ")"
   ]
  },
  {
   "cell_type": "code",
   "execution_count": 4,
   "id": "6deb3e8e",
   "metadata": {},
   "outputs": [
    {
     "data": {
      "text/html": [
       "<div>\n",
       "<style scoped>\n",
       "    .dataframe tbody tr th:only-of-type {\n",
       "        vertical-align: middle;\n",
       "    }\n",
       "\n",
       "    .dataframe tbody tr th {\n",
       "        vertical-align: top;\n",
       "    }\n",
       "\n",
       "    .dataframe thead th {\n",
       "        text-align: right;\n",
       "    }\n",
       "</style>\n",
       "<table border=\"1\" class=\"dataframe\">\n",
       "  <thead>\n",
       "    <tr style=\"text-align: right;\">\n",
       "      <th></th>\n",
       "      <th>price</th>\n",
       "      <th>availability</th>\n",
       "      <th>number_of_products_sold</th>\n",
       "      <th>revenue_generated</th>\n",
       "      <th>stock_levels</th>\n",
       "      <th>lead_times</th>\n",
       "      <th>order_quantities</th>\n",
       "      <th>shipping_times</th>\n",
       "      <th>shipping_costs</th>\n",
       "      <th>lead_time</th>\n",
       "      <th>...</th>\n",
       "      <th>product_type</th>\n",
       "      <th>sku</th>\n",
       "      <th>customer_demographics</th>\n",
       "      <th>shipping_carriers</th>\n",
       "      <th>location</th>\n",
       "      <th>inspection_results</th>\n",
       "      <th>transportation_modes</th>\n",
       "      <th>routes</th>\n",
       "      <th>shipping_times_category</th>\n",
       "      <th>supplier_name</th>\n",
       "    </tr>\n",
       "  </thead>\n",
       "  <tbody>\n",
       "    <tr>\n",
       "      <th>0</th>\n",
       "      <td>69.808006</td>\n",
       "      <td>55</td>\n",
       "      <td>802</td>\n",
       "      <td>8661.996792</td>\n",
       "      <td>58</td>\n",
       "      <td>7</td>\n",
       "      <td>96</td>\n",
       "      <td>4</td>\n",
       "      <td>2.956572</td>\n",
       "      <td>29</td>\n",
       "      <td>...</td>\n",
       "      <td>haircare</td>\n",
       "      <td>SKU0</td>\n",
       "      <td>Non-binary</td>\n",
       "      <td>Carrier B</td>\n",
       "      <td>Mumbai</td>\n",
       "      <td>Pending</td>\n",
       "      <td>Road</td>\n",
       "      <td>Route B</td>\n",
       "      <td>Standard</td>\n",
       "      <td>2</td>\n",
       "    </tr>\n",
       "    <tr>\n",
       "      <th>1</th>\n",
       "      <td>14.843523</td>\n",
       "      <td>95</td>\n",
       "      <td>736</td>\n",
       "      <td>7460.900065</td>\n",
       "      <td>53</td>\n",
       "      <td>30</td>\n",
       "      <td>37</td>\n",
       "      <td>2</td>\n",
       "      <td>9.716575</td>\n",
       "      <td>23</td>\n",
       "      <td>...</td>\n",
       "      <td>skincare</td>\n",
       "      <td>SKU1</td>\n",
       "      <td>Female</td>\n",
       "      <td>Carrier A</td>\n",
       "      <td>Mumbai</td>\n",
       "      <td>Pending</td>\n",
       "      <td>Road</td>\n",
       "      <td>Route B</td>\n",
       "      <td>Express</td>\n",
       "      <td>2</td>\n",
       "    </tr>\n",
       "    <tr>\n",
       "      <th>2</th>\n",
       "      <td>11.319683</td>\n",
       "      <td>34</td>\n",
       "      <td>8</td>\n",
       "      <td>9577.749626</td>\n",
       "      <td>1</td>\n",
       "      <td>10</td>\n",
       "      <td>88</td>\n",
       "      <td>2</td>\n",
       "      <td>8.054479</td>\n",
       "      <td>12</td>\n",
       "      <td>...</td>\n",
       "      <td>haircare</td>\n",
       "      <td>SKU2</td>\n",
       "      <td>Unknown</td>\n",
       "      <td>Carrier B</td>\n",
       "      <td>Mumbai</td>\n",
       "      <td>Pending</td>\n",
       "      <td>Air</td>\n",
       "      <td>Route C</td>\n",
       "      <td>Express</td>\n",
       "      <td>0</td>\n",
       "    </tr>\n",
       "    <tr>\n",
       "      <th>3</th>\n",
       "      <td>61.163343</td>\n",
       "      <td>68</td>\n",
       "      <td>83</td>\n",
       "      <td>7766.836426</td>\n",
       "      <td>23</td>\n",
       "      <td>13</td>\n",
       "      <td>59</td>\n",
       "      <td>6</td>\n",
       "      <td>1.729569</td>\n",
       "      <td>24</td>\n",
       "      <td>...</td>\n",
       "      <td>skincare</td>\n",
       "      <td>SKU3</td>\n",
       "      <td>Non-binary</td>\n",
       "      <td>Carrier C</td>\n",
       "      <td>Kolkata</td>\n",
       "      <td>Fail</td>\n",
       "      <td>Rail</td>\n",
       "      <td>Route A</td>\n",
       "      <td>Standard</td>\n",
       "      <td>4</td>\n",
       "    </tr>\n",
       "    <tr>\n",
       "      <th>4</th>\n",
       "      <td>4.805496</td>\n",
       "      <td>26</td>\n",
       "      <td>871</td>\n",
       "      <td>2686.505152</td>\n",
       "      <td>5</td>\n",
       "      <td>3</td>\n",
       "      <td>56</td>\n",
       "      <td>8</td>\n",
       "      <td>3.890548</td>\n",
       "      <td>5</td>\n",
       "      <td>...</td>\n",
       "      <td>skincare</td>\n",
       "      <td>SKU4</td>\n",
       "      <td>Non-binary</td>\n",
       "      <td>Carrier A</td>\n",
       "      <td>Delhi</td>\n",
       "      <td>Fail</td>\n",
       "      <td>Air</td>\n",
       "      <td>Route A</td>\n",
       "      <td>Economy</td>\n",
       "      <td>0</td>\n",
       "    </tr>\n",
       "  </tbody>\n",
       "</table>\n",
       "<p>5 rows × 25 columns</p>\n",
       "</div>"
      ],
      "text/plain": [
       "       price  availability  number_of_products_sold  revenue_generated  \\\n",
       "0  69.808006            55                      802        8661.996792   \n",
       "1  14.843523            95                      736        7460.900065   \n",
       "2  11.319683            34                        8        9577.749626   \n",
       "3  61.163343            68                       83        7766.836426   \n",
       "4   4.805496            26                      871        2686.505152   \n",
       "\n",
       "   stock_levels  lead_times  order_quantities  shipping_times  shipping_costs  \\\n",
       "0            58           7                96               4        2.956572   \n",
       "1            53          30                37               2        9.716575   \n",
       "2             1          10                88               2        8.054479   \n",
       "3            23          13                59               6        1.729569   \n",
       "4             5           3                56               8        3.890548   \n",
       "\n",
       "   lead_time  ...  product_type   sku  customer_demographics  \\\n",
       "0         29  ...      haircare  SKU0             Non-binary   \n",
       "1         23  ...      skincare  SKU1                 Female   \n",
       "2         12  ...      haircare  SKU2                Unknown   \n",
       "3         24  ...      skincare  SKU3             Non-binary   \n",
       "4          5  ...      skincare  SKU4             Non-binary   \n",
       "\n",
       "   shipping_carriers  location inspection_results transportation_modes  \\\n",
       "0          Carrier B    Mumbai            Pending                 Road   \n",
       "1          Carrier A    Mumbai            Pending                 Road   \n",
       "2          Carrier B    Mumbai            Pending                  Air   \n",
       "3          Carrier C   Kolkata               Fail                 Rail   \n",
       "4          Carrier A     Delhi               Fail                  Air   \n",
       "\n",
       "    routes shipping_times_category supplier_name  \n",
       "0  Route B                Standard             2  \n",
       "1  Route B                 Express             2  \n",
       "2  Route C                 Express             0  \n",
       "3  Route A                Standard             4  \n",
       "4  Route A                 Economy             0  \n",
       "\n",
       "[5 rows x 25 columns]"
      ]
     },
     "execution_count": 4,
     "metadata": {},
     "output_type": "execute_result"
    }
   ],
   "source": [
    "df.head()"
   ]
  },
  {
   "cell_type": "markdown",
   "id": "0cbfdc12",
   "metadata": {},
   "source": [
    "# Load metadata"
   ]
  },
  {
   "cell_type": "code",
   "execution_count": 5,
   "id": "38d7566b",
   "metadata": {},
   "outputs": [],
   "source": [
    "df = load_metadata(\n",
    "    df,\n",
    "    r\"../../data/metadata/metadata2.json\",\n",
    ")"
   ]
  },
  {
   "cell_type": "markdown",
   "id": "7ab29f7b",
   "metadata": {},
   "source": [
    "# Overview"
   ]
  },
  {
   "cell_type": "markdown",
   "id": "0c74db1f",
   "metadata": {},
   "source": [
    "## Check"
   ]
  },
  {
   "cell_type": "code",
   "execution_count": 6,
   "id": "a73fd9aa",
   "metadata": {},
   "outputs": [
    {
     "name": "stdout",
     "output_type": "stream",
     "text": [
      "Num of varibles: 25\n",
      "Num of rows: 100\n"
     ]
    }
   ],
   "source": [
    "print(f\"Num of varibles:\", df.shape[1])\n",
    "print(f\"Num of rows:\", df.shape[0])"
   ]
  },
  {
   "cell_type": "code",
   "execution_count": 7,
   "id": "ad6381f9",
   "metadata": {},
   "outputs": [
    {
     "name": "stdout",
     "output_type": "stream",
     "text": [
      "<class 'pandas.core.frame.DataFrame'>\n",
      "RangeIndex: 100 entries, 0 to 99\n",
      "Data columns (total 25 columns):\n",
      " #   Column                   Non-Null Count  Dtype   \n",
      "---  ------                   --------------  -----   \n",
      " 0   price                    100 non-null    float64 \n",
      " 1   availability             100 non-null    int64   \n",
      " 2   number_of_products_sold  100 non-null    int64   \n",
      " 3   revenue_generated        100 non-null    float64 \n",
      " 4   stock_levels             100 non-null    int64   \n",
      " 5   lead_times               100 non-null    int64   \n",
      " 6   order_quantities         100 non-null    int64   \n",
      " 7   shipping_times           100 non-null    int64   \n",
      " 8   shipping_costs           100 non-null    float64 \n",
      " 9   lead_time                100 non-null    int64   \n",
      " 10  production_volumes       100 non-null    int64   \n",
      " 11  manufacturing_lead_time  100 non-null    int64   \n",
      " 12  manufacturing_costs      100 non-null    float64 \n",
      " 13  defect_rates             100 non-null    float64 \n",
      " 14  costs                    100 non-null    float64 \n",
      " 15  product_type             100 non-null    category\n",
      " 16  sku                      100 non-null    category\n",
      " 17  customer_demographics    100 non-null    category\n",
      " 18  shipping_carriers        100 non-null    category\n",
      " 19  location                 100 non-null    category\n",
      " 20  inspection_results       100 non-null    category\n",
      " 21  transportation_modes     100 non-null    category\n",
      " 22  routes                   100 non-null    category\n",
      " 23  shipping_times_category  100 non-null    category\n",
      " 24  supplier_name            100 non-null    category\n",
      "dtypes: category(10), float64(6), int64(9)\n",
      "memory usage: 19.1 KB\n"
     ]
    }
   ],
   "source": [
    "df.info()"
   ]
  },
  {
   "cell_type": "code",
   "execution_count": 8,
   "id": "64fdffcd",
   "metadata": {},
   "outputs": [
    {
     "data": {
      "text/plain": [
       "price                      0\n",
       "availability               0\n",
       "number_of_products_sold    0\n",
       "revenue_generated          0\n",
       "stock_levels               0\n",
       "lead_times                 0\n",
       "order_quantities           0\n",
       "shipping_times             0\n",
       "shipping_costs             0\n",
       "lead_time                  0\n",
       "production_volumes         0\n",
       "manufacturing_lead_time    0\n",
       "manufacturing_costs        0\n",
       "defect_rates               0\n",
       "costs                      0\n",
       "product_type               0\n",
       "sku                        0\n",
       "customer_demographics      0\n",
       "shipping_carriers          0\n",
       "location                   0\n",
       "inspection_results         0\n",
       "transportation_modes       0\n",
       "routes                     0\n",
       "shipping_times_category    0\n",
       "supplier_name              0\n",
       "dtype: int64"
      ]
     },
     "execution_count": 8,
     "metadata": {},
     "output_type": "execute_result"
    }
   ],
   "source": [
    "df.isnull().sum()"
   ]
  },
  {
   "cell_type": "markdown",
   "id": "77bf5659",
   "metadata": {},
   "source": [
    "## Varibles and target"
   ]
  },
  {
   "cell_type": "code",
   "execution_count": 9,
   "id": "a788cb81",
   "metadata": {},
   "outputs": [
    {
     "name": "stdout",
     "output_type": "stream",
     "text": [
      "['supplier_name ']\n",
      "['price', 'availability', 'number_of_products_sold', 'revenue_generated', 'stock_levels', 'lead_times', 'order_quantities', 'shipping_times', 'shipping_costs', 'lead_time', 'production_volumes', 'manufacturing_lead_time', 'manufacturing_costs', 'defect_rates', 'costs', 'product_type', 'sku', 'customer_demographics', 'shipping_carriers', 'location', 'inspection_results', 'transportation_modes', 'routes', 'shipping_times_category', 'supplier_name']\n"
     ]
    }
   ],
   "source": [
    "target = ['supplier_name ']\n",
    "variablies = [col for col in df.columns if col not in target]\n",
    "\n",
    "print(target)\n",
    "print(variablies)"
   ]
  },
  {
   "cell_type": "markdown",
   "id": "feb0eeba",
   "metadata": {},
   "source": [
    "# Grouping Varibles by their respective data types (except target)"
   ]
  },
  {
   "cell_type": "code",
   "execution_count": 12,
   "id": "92420c62",
   "metadata": {},
   "outputs": [
    {
     "name": "stdout",
     "output_type": "stream",
     "text": [
      "Total numeric columns: 15\n",
      "Numeric columns: ['price', 'availability', 'number_of_products_sold', 'revenue_generated', 'stock_levels', 'lead_times', 'order_quantities', 'shipping_times', 'shipping_costs', 'lead_time', 'production_volumes', 'manufacturing_lead_time', 'manufacturing_costs', 'defect_rates', 'costs']\n",
      "\n",
      "Total categorical columns: 10\n",
      "Categorical columns: ['product_type', 'sku', 'customer_demographics', 'shipping_carriers', 'location', 'inspection_results', 'transportation_modes', 'routes', 'shipping_times_category', 'supplier_name']\n",
      "\n"
     ]
    }
   ],
   "source": [
    "numerical_cols, categorical_cols, _ = group_columns_by_type(df[variablies], display_info=True)"
   ]
  },
  {
   "cell_type": "markdown",
   "id": "41524c73",
   "metadata": {},
   "source": [
    "# Bivariate"
   ]
  },
  {
   "cell_type": "code",
   "execution_count": null,
   "id": "2fc1e16e",
   "metadata": {},
   "outputs": [],
   "source": []
  },
  {
   "cell_type": "markdown",
   "id": "af2aee63",
   "metadata": {},
   "source": [
    "# Save"
   ]
  },
  {
   "cell_type": "code",
   "execution_count": null,
   "id": "faebe093",
   "metadata": {},
   "outputs": [],
   "source": [
    "df = pd.concat([df[numerical_cols + categorical_cols + date_cols + target]], axis=1)"
   ]
  },
  {
   "cell_type": "markdown",
   "id": "e6579548",
   "metadata": {},
   "source": [
    "## Metadata `.json`"
   ]
  },
  {
   "cell_type": "code",
   "execution_count": null,
   "id": "9b9c3295",
   "metadata": {},
   "outputs": [],
   "source": [
    "save_metadata(\n",
    "    df,\n",
    "    \"\",\n",
    ")"
   ]
  },
  {
   "cell_type": "markdown",
   "id": "9db684ba",
   "metadata": {},
   "source": [
    "## To `.csv`"
   ]
  },
  {
   "cell_type": "code",
   "execution_count": null,
   "id": "790e93f6",
   "metadata": {},
   "outputs": [],
   "source": [
    "df.to_csv(\n",
    "    r\"\",\n",
    "    index=False,\n",
    "    encoding=\"utf-8\",\n",
    ")"
   ]
  }
 ],
 "metadata": {
  "kernelspec": {
   "display_name": ".venv",
   "language": "python",
   "name": "python3"
  },
  "language_info": {
   "codemirror_mode": {
    "name": "ipython",
    "version": 3
   },
   "file_extension": ".py",
   "mimetype": "text/x-python",
   "name": "python",
   "nbconvert_exporter": "python",
   "pygments_lexer": "ipython3",
   "version": "3.14.0"
  }
 },
 "nbformat": 4,
 "nbformat_minor": 5
}
